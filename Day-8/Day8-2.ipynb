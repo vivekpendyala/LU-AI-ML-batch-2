{
 "cells": [
  {
   "cell_type": "markdown",
   "metadata": {},
   "source": [
    "Question 2:\n",
    "--\n",
    "Recreate your own Python NB for “Classes and Objects” from the pdf provided namely\n",
    "“Classes&Objects.pdf”"
   ]
  },
  {
   "cell_type": "markdown",
   "metadata": {},
   "source": [
    "-> Class is a blue print where as Object is an instance of it."
   ]
  },
  {
   "cell_type": "code",
   "execution_count": 1,
   "metadata": {},
   "outputs": [
    {
     "name": "stdout",
     "output_type": "stream",
     "text": [
      "The student name is  Vivek\n",
      "Total number of students : 2\n"
     ]
    }
   ],
   "source": [
    "class Student:\n",
    "    ' Student and there Roll numbers'\n",
    "    total_students = 0 # This is used to give us the total number of students\n",
    "    def __init__(self, name, roll_no):\n",
    "        self.name = name\n",
    "        self.roll_no = roll_no\n",
    "        Student.total_students += 1\n",
    "    def display_name(self):\n",
    "        'Going to display the name of the student'\n",
    "        print(\"The student name is \",self.name)\n",
    "    def display_roll(self):\n",
    "        'Going to display the name of the student and his/her roll number.'\n",
    "        print(\"{} roll number is {}\".format(self.name,self.roll_name))\n",
    "\n",
    "A = Student('Vivek',36)   # ---> Creating a object of Student class\n",
    "B = Student('Sai',30)      # ---> Creating another object of student class\n",
    "A.display_name()           # ---> Displaying the name of the Student A\n",
    "print('Total number of students :',Student.total_students)    # ---> Getting the total number of students"
   ]
  },
  {
   "cell_type": "markdown",
   "metadata": {},
   "source": [
    "getattr(object name , variable name)\n",
    "--\n",
    "- > This is going to return the value of variable of the particular object."
   ]
  },
  {
   "cell_type": "code",
   "execution_count": 2,
   "metadata": {},
   "outputs": [
    {
     "name": "stdout",
     "output_type": "stream",
     "text": [
      "A's name:\n"
     ]
    },
    {
     "data": {
      "text/plain": [
       "'Vivek'"
      ]
     },
     "execution_count": 2,
     "metadata": {},
     "output_type": "execute_result"
    }
   ],
   "source": [
    "print(\"A's name:\")\n",
    "getattr(A,'name')"
   ]
  },
  {
   "cell_type": "markdown",
   "metadata": {},
   "source": [
    "setattr(object name, variable name, value)\n",
    "--\n",
    "- >This is going to set the value of the specified variable of the specified object to the specified value."
   ]
  },
  {
   "cell_type": "code",
   "execution_count": 3,
   "metadata": {},
   "outputs": [
    {
     "name": "stdout",
     "output_type": "stream",
     "text": [
      "Befor changing\n",
      "Vivek\n",
      "After changing\n",
      "Vivek Pendyala\n"
     ]
    }
   ],
   "source": [
    "print(\"Befor changing\")\n",
    "print(getattr(A,'name'))\n",
    "print(\"After changing\")\n",
    "setattr(A,'name','Vivek Pendyala')\n",
    "print(getattr(A,'name'))"
   ]
  },
  {
   "cell_type": "markdown",
   "metadata": {},
   "source": [
    "hasattr(object name, Attribute name)\n",
    "--\n",
    "- > Tells us weather the given attribute is present in the object or not"
   ]
  },
  {
   "cell_type": "code",
   "execution_count": 4,
   "metadata": {},
   "outputs": [
    {
     "data": {
      "text/plain": [
       "True"
      ]
     },
     "execution_count": 4,
     "metadata": {},
     "output_type": "execute_result"
    }
   ],
   "source": [
    "hasattr(A,'name')"
   ]
  },
  {
   "cell_type": "markdown",
   "metadata": {},
   "source": [
    "delattr(object name, attribute name)\n",
    "--\n",
    "- > It delets the given attribute of the given object"
   ]
  },
  {
   "cell_type": "code",
   "execution_count": 5,
   "metadata": {},
   "outputs": [
    {
     "name": "stdout",
     "output_type": "stream",
     "text": [
      "True\n",
      "False\n"
     ]
    }
   ],
   "source": [
    "print(hasattr(B,'name'))\n",
    "delattr(B,'name')\n",
    "print(hasattr(B,'name'))"
   ]
  },
  {
   "cell_type": "markdown",
   "metadata": {},
   "source": [
    " __dict__\n",
    " --\n",
    "- > A dictionary or other mapping object used to store an object’s (writable) attributes.\n"
   ]
  },
  {
   "cell_type": "markdown",
   "metadata": {},
   "source": [
    "__doc__\n",
    "--\n",
    "- > It is going to display the doc string present inside the class\n"
   ]
  },
  {
   "cell_type": "markdown",
   "metadata": {},
   "source": [
    "__name__ \n",
    "--\n",
    "- > It is going to display the name of the class"
   ]
  },
  {
   "cell_type": "markdown",
   "metadata": {},
   "source": [
    "__module__ \n",
    "--\n",
    "- > It will display weather it is a driver code or not"
   ]
  },
  {
   "cell_type": "markdown",
   "metadata": {},
   "source": [
    "   __bases__\n",
    "--\n",
    "It is going to display weather it is parent class or child class .  If it is a child class then it will display its parent class or if it is parent class then it will display empty tuple"
   ]
  },
  {
   "cell_type": "code",
   "execution_count": 6,
   "metadata": {},
   "outputs": [
    {
     "name": "stdout",
     "output_type": "stream",
     "text": [
      "Dict          : {'__module__': '__main__', '__doc__': ' Student and there Roll numbers', 'total_students': 2, '__init__': <function Student.__init__ at 0x0000021C9418DA68>, 'display_name': <function Student.display_name at 0x0000021C9418DAF8>, 'display_roll': <function Student.display_roll at 0x0000021C9418DB88>, '__dict__': <attribute '__dict__' of 'Student' objects>, '__weakref__': <attribute '__weakref__' of 'Student' objects>}\n",
      "Doc           :  Student and there Roll numbers\n",
      "Name          : Student\n",
      "Module        : __main__\n",
      "Bases         : (<class 'object'>,)\n"
     ]
    }
   ],
   "source": [
    "print('Dict          :',Student.__dict__)\n",
    "print('Doc           :',Student.__doc__)    # ---> It is goin to display the doc string present in the class\n",
    "print('Name          :',Student.__name__)          # ---> Will Display the name of the class\n",
    "print('Module        :',Student.__module__)    # ---> will display weather it is a driver code or main code\n",
    "print('Bases         :',Student.__bases__)"
   ]
  },
  {
   "cell_type": "markdown",
   "metadata": {},
   "source": [
    "Inheritance\n",
    "--\n",
    "- >  The process of acquiring the properties of the parent class"
   ]
  },
  {
   "cell_type": "markdown",
   "metadata": {},
   "source": [
    "- > A child class can access the method of parent class but vice versa is not possible."
   ]
  },
  {
   "cell_type": "markdown",
   "metadata": {},
   "source": [
    "Overriding Methods\n",
    "--\n",
    "- > Overriding the method of the parent class by child class is know as method overriding."
   ]
  },
  {
   "cell_type": "code",
   "execution_count": 7,
   "metadata": {},
   "outputs": [
    {
     "name": "stdout",
     "output_type": "stream",
     "text": [
      "Just a method\n",
      "inside parent class\n",
      "Method Overriding is done succesfully\n",
      "Inside child class\n",
      "Just a method\n"
     ]
    }
   ],
   "source": [
    "class A:\n",
    "    def display(self):\n",
    "        print('inside parent class')\n",
    "    def e(self):\n",
    "        print('Just a method')\n",
    "class B(A):\n",
    "    def display(self):\n",
    "        print('Method Overriding is done succesfully')\n",
    "    def d(self):\n",
    "        print('Inside child class')\n",
    "        \n",
    "p = A()   # creating an object for class A\n",
    "c = B()   # creating an object for class B\n",
    "p.e()\n",
    "p.display()\n",
    "c.display()  # This is an example for method overriding\n",
    "c.d()      \n",
    "c.e()     # Calling the parent method from child"
   ]
  },
  {
   "cell_type": "code",
   "execution_count": 32,
   "metadata": {},
   "outputs": [
    {
     "ename": "AttributeError",
     "evalue": "'A' object has no attribute 'd'",
     "output_type": "error",
     "traceback": [
      "\u001b[1;31m---------------------------------------------------------------------------\u001b[0m",
      "\u001b[1;31mAttributeError\u001b[0m                            Traceback (most recent call last)",
      "\u001b[1;32m<ipython-input-32-08fea73679b1>\u001b[0m in \u001b[0;36m<module>\u001b[1;34m\u001b[0m\n\u001b[1;32m----> 1\u001b[1;33m \u001b[0mp\u001b[0m\u001b[1;33m.\u001b[0m\u001b[0md\u001b[0m\u001b[1;33m(\u001b[0m\u001b[1;33m)\u001b[0m \u001b[1;31m#Trying to access the child method by parent ---> it will throw an error\u001b[0m\u001b[1;33m\u001b[0m\u001b[1;33m\u001b[0m\u001b[0m\n\u001b[0m",
      "\u001b[1;31mAttributeError\u001b[0m: 'A' object has no attribute 'd'"
     ]
    }
   ],
   "source": [
    "p.d() #Trying to access the child method by parent ---> it will throw an error"
   ]
  },
  {
   "cell_type": "markdown",
   "metadata": {},
   "source": [
    "Private Variables in class\n",
    "--\n",
    "- > These are attributes which can not by accessed by the objects"
   ]
  },
  {
   "cell_type": "code",
   "execution_count": 8,
   "metadata": {},
   "outputs": [
    {
     "name": "stdout",
     "output_type": "stream",
     "text": [
      "Inside G\n"
     ]
    }
   ],
   "source": [
    "class G():\n",
    "    __count = 0  # Private variable.\n",
    "    def a(self):\n",
    "        print('Inside G')\n",
    "        self.__count += 1\n",
    "v = G()\n",
    "v.a()"
   ]
  },
  {
   "cell_type": "markdown",
   "metadata": {},
   "source": [
    "- > Trying to access a private variable form an object will throw an error"
   ]
  },
  {
   "cell_type": "code",
   "execution_count": 9,
   "metadata": {},
   "outputs": [
    {
     "ename": "AttributeError",
     "evalue": "'G' object has no attribute '__count'",
     "output_type": "error",
     "traceback": [
      "\u001b[1;31m---------------------------------------------------------------------------\u001b[0m",
      "\u001b[1;31mAttributeError\u001b[0m                            Traceback (most recent call last)",
      "\u001b[1;32m<ipython-input-9-f9b35d39846d>\u001b[0m in \u001b[0;36m<module>\u001b[1;34m\u001b[0m\n\u001b[1;32m----> 1\u001b[1;33m \u001b[0mv\u001b[0m\u001b[1;33m.\u001b[0m\u001b[0m__count\u001b[0m\u001b[1;33m\u001b[0m\u001b[1;33m\u001b[0m\u001b[0m\n\u001b[0m",
      "\u001b[1;31mAttributeError\u001b[0m: 'G' object has no attribute '__count'"
     ]
    }
   ],
   "source": [
    "v.__count"
   ]
  },
  {
   "cell_type": "code",
   "execution_count": 10,
   "metadata": {},
   "outputs": [
    {
     "data": {
      "text/plain": [
       "1"
      ]
     },
     "execution_count": 10,
     "metadata": {},
     "output_type": "execute_result"
    }
   ],
   "source": [
    "v._G__count  # Acessing of private variable"
   ]
  }
 ],
 "metadata": {
  "kernelspec": {
   "display_name": "Python 3",
   "language": "python",
   "name": "python3"
  },
  "language_info": {
   "codemirror_mode": {
    "name": "ipython",
    "version": 3
   },
   "file_extension": ".py",
   "mimetype": "text/x-python",
   "name": "python",
   "nbconvert_exporter": "python",
   "pygments_lexer": "ipython3",
   "version": "3.7.6"
  }
 },
 "nbformat": 4,
 "nbformat_minor": 4
}
