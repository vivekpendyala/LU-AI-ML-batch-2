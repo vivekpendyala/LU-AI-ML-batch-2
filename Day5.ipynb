{
 "cells": [
  {
   "cell_type": "markdown",
   "metadata": {},
   "source": [
    "Question 1 :\n",
    "--\n",
    "Write a Python program to find the first 20 non-even prime natural numbers."
   ]
  },
  {
   "cell_type": "code",
   "execution_count": 1,
   "metadata": {},
   "outputs": [
    {
     "name": "stdout",
     "output_type": "stream",
     "text": [
      "[3, 5, 7, 9, 11, 13, 17, 19, 23, 25, 29, 31, 37, 41, 43, 47, 49, 53, 59, 61]\n"
     ]
    }
   ],
   "source": [
    "import math\n",
    "n = 20                               # n = int(input())   \n",
    "ans = []\n",
    "i = 2\n",
    "while True:\n",
    "    if i%2 == 0:\n",
    "        i += 1\n",
    "    else:\n",
    "        count = 0\n",
    "        for j in range(1,math.ceil(math.sqrt(i))):\n",
    "            if i % j == 0:\n",
    "                count += 1\n",
    "        if count == 1:\n",
    "            ans.append(i)\n",
    "        i += 1\n",
    "    if len(ans) == n:\n",
    "        break\n",
    "print(ans)"
   ]
  },
  {
   "cell_type": "markdown",
   "metadata": {},
   "source": [
    "Question 2 :\n",
    "--\n",
    "Write a Python program to implement 15 functions of string."
   ]
  },
  {
   "cell_type": "code",
   "execution_count": 2,
   "metadata": {},
   "outputs": [
    {
     "name": "stdout",
     "output_type": "stream",
     "text": [
      "    I AM A LETSUPGRADER   \n",
      "    i am a letsupgrader   \n",
      "False\n",
      "False\n",
      "    i am a letsupgrader   \n",
      "    i am a letsupgrader   \n",
      "3\n",
      "      I am a LetsUpgrader     \n",
      "False\n",
      "b'    I am a LetsUpgrader   '\n",
      "6\n",
      "6\n",
      "False\n",
      "False\n",
      "False\n",
      "True\n",
      "False\n",
      "False\n",
      "False\n",
      "['I', 'am', 'a', 'LetsUpgrader']\n",
      "    I am a LetsUpgrader\n",
      "I am a LetsUpgrader   \n",
      "I am a LetsUpgrader\n"
     ]
    }
   ],
   "source": [
    "                         # Some of the built-in String methods\n",
    "\n",
    "s = '    I am a LetsUpgrader   '\n",
    "print(s.upper())                 # converts the string to upper case\n",
    "print(s.lower())                 # Converts the string to lower case\n",
    "print(s.islower())               # Used to check weather the give string is in lower case or not\n",
    "print(s.isupper())               # Used to check weather the give string is in Upper case or not        \n",
    "print(s.capitalize())\n",
    "print(s.casefold())                 # Used to compare without cases\n",
    "print(s.count('a'))                 # Used to count the specified character/characters in specified string\n",
    "print(s.center(30))                \n",
    "print(s.endswith('der'))            # Used to check weather the string endswith specified letter/letters\n",
    "print(s.encode()) \n",
    "print(s.find('a'))                 # Used to get the first occurance of the specified letter\n",
    "print(s.index('a'))\n",
    "print(s.isalnum())\n",
    "print(s.isalpha())\n",
    "print(s.isalpha())\n",
    "print(s.isascii())\n",
    "print(s.isdecimal())\n",
    "print(s.isdigit())\n",
    "print(s.isnumeric())                  # Used to check weather the given string is numeric or not\n",
    "print(s.split())                      \n",
    "print(s.rstrip())                     # Used to remove specified charcter from right side by default white space character\n",
    "print(s.lstrip())                     # Used to remove specified charcter from left side by default white space character\n",
    "print(s.strip())                      # Used to remove specified charcter from both side by default white space character"
   ]
  },
  {
   "cell_type": "markdown",
   "metadata": {},
   "source": [
    "Question 3:\n",
    "--\n",
    "Write a Python program to check if the given string is a Palindrome or Anagram or None of them. Display\n",
    "the message accordingly to the user."
   ]
  },
  {
   "cell_type": "code",
   "execution_count": 3,
   "metadata": {},
   "outputs": [
    {
     "name": "stdout",
     "output_type": "stream",
     "text": [
      "Enter first word :civic\n",
      "Given string is a palindrom\n"
     ]
    }
   ],
   "source": [
    "s = input(\"Enter first word :\").lower()\n",
    "r = s[::-1]\n",
    "if s == r:\n",
    "    print(\"Given string is a palindrom\")\n",
    "else:\n",
    "    s2 = input('Enter second word to check with first word :').lower()\n",
    "    if sorted(list(s)) == sorted(list(s2)):\n",
    "        print(\"Given Strings are anagram\")\n",
    "    else:\n",
    "        print(\"Given Strings are neither anagram nor palindrom.\")"
   ]
  },
  {
   "cell_type": "markdown",
   "metadata": {},
   "source": [
    "Question 4:\n",
    "--\n",
    "Write a Python's user-defined function that removes all the additional characters from the string and\n",
    "convert it finally to lower case using built-in lower(). eg: If the string is \"Dr. Darshan Ingle @AIML Trainer\",\n",
    "then the output be \"drdarshaningleaimltrainer\"."
   ]
  },
  {
   "cell_type": "code",
   "execution_count": 4,
   "metadata": {},
   "outputs": [
    {
     "name": "stdout",
     "output_type": "stream",
     "text": [
      "drdarshaningleaimltrainer\n"
     ]
    }
   ],
   "source": [
    "def check(a):\n",
    "    b = str()\n",
    "    for i in a:\n",
    "        if i.isalpha():\n",
    "            b = b + i\n",
    "    print(b.lower())\n",
    "\n",
    "\n",
    "a = \"Dr. Darshan Ingle @AIML Trainer\"                    # For use input use a = input()\n",
    "check(a)                                         # drdarshaningleaimltrainer"
   ]
  }
 ],
 "metadata": {
  "kernelspec": {
   "display_name": "Python 3",
   "language": "python",
   "name": "python3"
  },
  "language_info": {
   "codemirror_mode": {
    "name": "ipython",
    "version": 3
   },
   "file_extension": ".py",
   "mimetype": "text/x-python",
   "name": "python",
   "nbconvert_exporter": "python",
   "pygments_lexer": "ipython3",
   "version": "3.7.6"
  }
 },
 "nbformat": 4,
 "nbformat_minor": 4
}
