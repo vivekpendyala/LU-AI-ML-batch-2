{
 "cells": [
  {
   "cell_type": "markdown",
   "metadata": {},
   "source": [
    "Question 1:\n",
    "--\n",
    "Create an element-wise comparison (greater, greater_equal, less and less_equal) of two given arrays"
   ]
  },
  {
   "cell_type": "code",
   "execution_count": 1,
   "metadata": {},
   "outputs": [
    {
     "name": "stdout",
     "output_type": "stream",
     "text": [
      "[[False False False]\n",
      " [False False  True]]\n"
     ]
    }
   ],
   "source": [
    "# Numpy program for element wise comparison (Greater than)\n",
    "import numpy as np\n",
    "a1 = np.array([[1, 2, 3],[4, 5, 6]])\n",
    "a2 = np.array([[9, 8, 7],[6, 5, 4]])\n",
    "filter = a1 > a2\n",
    "print(filter)"
   ]
  },
  {
   "cell_type": "code",
   "execution_count": 2,
   "metadata": {},
   "outputs": [
    {
     "name": "stdout",
     "output_type": "stream",
     "text": [
      "[[False False False]\n",
      " [False  True  True]]\n"
     ]
    }
   ],
   "source": [
    "# Numpy program for element wise comparison (Greater than or equal to)\n",
    "a1 = np.array([[1, 2, 3],[4, 5, 6]])\n",
    "a2 = np.array([[9, 8, 7],[6, 5, 4]])\n",
    "filter = a1 >= a2\n",
    "print(filter)"
   ]
  },
  {
   "cell_type": "code",
   "execution_count": 3,
   "metadata": {},
   "outputs": [
    {
     "name": "stdout",
     "output_type": "stream",
     "text": [
      "[[ True  True  True]\n",
      " [ True False False]]\n"
     ]
    }
   ],
   "source": [
    "# Numpy program for element wise comparison (less than)\n",
    "a1 = np.array([[1, 2, 3],[4, 5, 6]])\n",
    "a2 = np.array([[9, 8, 7],[6, 5, 4]])\n",
    "filter = a1 < a2\n",
    "print(filter)"
   ]
  },
  {
   "cell_type": "code",
   "execution_count": 4,
   "metadata": {},
   "outputs": [
    {
     "name": "stdout",
     "output_type": "stream",
     "text": [
      "[[ True  True  True]\n",
      " [ True  True False]]\n"
     ]
    }
   ],
   "source": [
    "# Numpy program for element wise comparison (less than or equal to)\n",
    "a1 = np.array([[1, 2, 3],[4, 5, 6]])\n",
    "a2 = np.array([[9, 8, 7],[6, 5, 4]])\n",
    "filter = a1 <= a2\n",
    "print(filter)"
   ]
  },
  {
   "cell_type": "markdown",
   "metadata": {},
   "source": [
    "Question 2:\n",
    "--\n",
    "Write a NumPy program to create an array of 10 zeros,10 ones, 10 fives"
   ]
  },
  {
   "cell_type": "code",
   "execution_count": 5,
   "metadata": {},
   "outputs": [
    {
     "name": "stdout",
     "output_type": "stream",
     "text": [
      "[[0 0 0 0 0 0 0 0 0 0]]\n"
     ]
    }
   ],
   "source": [
    "# Numpy program to create an array of 10 zeros\n",
    "z = np.zeros([1,10], dtype = np.int64)\n",
    "print(z)"
   ]
  },
  {
   "cell_type": "code",
   "execution_count": 6,
   "metadata": {},
   "outputs": [
    {
     "name": "stdout",
     "output_type": "stream",
     "text": [
      "[[1 1 1 1 1 1 1 1 1 1]]\n"
     ]
    }
   ],
   "source": [
    "# Numpy program to create an array of 10 ones\n",
    "o = np.ones([1,10], dtype = np.int64)\n",
    "print(o)"
   ]
  },
  {
   "cell_type": "code",
   "execution_count": 7,
   "metadata": {},
   "outputs": [
    {
     "name": "stdout",
     "output_type": "stream",
     "text": [
      "[[5 5 5 5 5 5 5 5 5 5]]\n"
     ]
    }
   ],
   "source": [
    "# Numpy program to create an array of 10 fives\n",
    "f = np.full([1,10],5)\n",
    "print(f)"
   ]
  },
  {
   "cell_type": "markdown",
   "metadata": {},
   "source": [
    "Question 3:\n",
    "--\n",
    "Write a NumPy program to compute sum of all elements, sum of each column and sum of each row of a\n",
    "given array"
   ]
  },
  {
   "cell_type": "code",
   "execution_count": 8,
   "metadata": {},
   "outputs": [
    {
     "name": "stdout",
     "output_type": "stream",
     "text": [
      "21\n"
     ]
    }
   ],
   "source": [
    "# Numpy program to sum all the elemnts in an array\n",
    "arr = np.array([[1, 2, 3],[4, 5, 6]])\n",
    "sum_all_elements = np.sum(arr)\n",
    "print(sum_all_elements)"
   ]
  },
  {
   "cell_type": "code",
   "execution_count": 9,
   "metadata": {},
   "outputs": [
    {
     "name": "stdout",
     "output_type": "stream",
     "text": [
      "[5 7 9]\n"
     ]
    }
   ],
   "source": [
    "# Numpy program to sum of each column elemnts in an array\n",
    "arr = np.array([[1, 2, 3],[4, 5, 6]])\n",
    "sum_column_elements = np.sum(arr, axis = 0)   # 1 + 4 = 5 ; 2 + 5 = 7 ; 3 + 6 = 9\n",
    "print(sum_column_elements)"
   ]
  },
  {
   "cell_type": "code",
   "execution_count": 10,
   "metadata": {},
   "outputs": [
    {
     "name": "stdout",
     "output_type": "stream",
     "text": [
      "[ 6 15]\n"
     ]
    }
   ],
   "source": [
    "# Numpy program to sum of each row elemnts in an array\n",
    "arr = np.array([[1, 2, 3],[4, 5, 6]])\n",
    "sum_row_elements = np.sum(arr, axis = 1)       # 1 + 2 + 3 = 6 ;  4 + 5 + 6 =15\n",
    "print(sum_row_elements)"
   ]
  },
  {
   "cell_type": "markdown",
   "metadata": {},
   "source": [
    "Question 4:\n",
    "--\n",
    "Write a NumPy program to add, subtract, multiply, divide arguments element-wise."
   ]
  },
  {
   "cell_type": "code",
   "execution_count": 11,
   "metadata": {},
   "outputs": [
    {
     "name": "stdout",
     "output_type": "stream",
     "text": [
      "The given arrays are\n",
      " [[1 2 3]\n",
      " [4 5 6]] \n",
      " and\n",
      " [[9 8 7]\n",
      " [6 5 4]]\n"
     ]
    }
   ],
   "source": [
    "# Creating Numpy arrays\n",
    "a1 = np.array([[1, 2, 3],[4, 5, 6]])\n",
    "a2 = np.array([[9, 8, 7],[6, 5, 4]])\n",
    "print('The given arrays are\\n {} \\n and\\n {}'.format(a1,a2))"
   ]
  },
  {
   "cell_type": "code",
   "execution_count": 17,
   "metadata": {},
   "outputs": [
    {
     "name": "stdout",
     "output_type": "stream",
     "text": [
      "[[10 10 10]\n",
      " [10 10 10]]\n"
     ]
    }
   ],
   "source": [
    "# numpy programe to add to arrays element wise\n",
    "ad = np.add(a1,a2)          # ad = a1 + a2\n",
    "print(ad)"
   ]
  },
  {
   "cell_type": "code",
   "execution_count": 12,
   "metadata": {},
   "outputs": [
    {
     "name": "stdout",
     "output_type": "stream",
     "text": [
      "[[-8 -6 -4]\n",
      " [-2  0  2]]\n"
     ]
    }
   ],
   "source": [
    "# numpy programe to subtract to arrays element wise\n",
    "sub = np.subtract(a1,a2)    #  sub = a1 - a2\n",
    "print(sub)"
   ]
  },
  {
   "cell_type": "code",
   "execution_count": 13,
   "metadata": {},
   "outputs": [
    {
     "name": "stdout",
     "output_type": "stream",
     "text": [
      "[[0.11111111 0.25       0.42857143]\n",
      " [0.66666667 1.         1.5       ]]\n"
     ]
    }
   ],
   "source": [
    "# numpy programe to divide to arrays element wise\n",
    "div = np.divide(a1,a2)      # div = a1 / a2\n",
    "print(div)"
   ]
  },
  {
   "cell_type": "code",
   "execution_count": 14,
   "metadata": {},
   "outputs": [
    {
     "name": "stdout",
     "output_type": "stream",
     "text": [
      "[[ 9 16 21]\n",
      " [24 25 24]]\n"
     ]
    }
   ],
   "source": [
    "# numpy programe to multiply to arrays element wise\n",
    "mul = np.multiply(a1, a2)      # mul = a1 * a2\n",
    "print(mul)"
   ]
  },
  {
   "cell_type": "markdown",
   "metadata": {},
   "source": [
    "Question 5:\n",
    "--\n",
    "Write a NumPy program to compute the trigonometric sine, cosine and tangent array of angles given in\n",
    "degree."
   ]
  },
  {
   "cell_type": "code",
   "execution_count": 15,
   "metadata": {},
   "outputs": [
    {
     "name": "stdout",
     "output_type": "stream",
     "text": [
      "[[ 0.84147098  0.90929743  0.14112001]\n",
      " [-0.7568025  -0.95892427 -0.2794155 ]]\n"
     ]
    }
   ],
   "source": [
    "# Numpy program to compute trigonometric sine\n",
    "a1 = np.array([[1, 2, 3],[4, 5, 6]])\n",
    "sin = np.sin(a1)\n",
    "print(sin)"
   ]
  },
  {
   "cell_type": "code",
   "execution_count": 16,
   "metadata": {},
   "outputs": [
    {
     "name": "stdout",
     "output_type": "stream",
     "text": [
      "[[ 0.54030231 -0.41614684 -0.9899925 ]\n",
      " [-0.65364362  0.28366219  0.96017029]]\n"
     ]
    }
   ],
   "source": [
    "# Numpy program to compute trigonometric cosine\n",
    "cos = np.cos(a1)\n",
    "print(cos)"
   ]
  },
  {
   "cell_type": "code",
   "execution_count": 17,
   "metadata": {},
   "outputs": [
    {
     "name": "stdout",
     "output_type": "stream",
     "text": [
      "[[ 1.55740772 -2.18503986 -0.14254654]\n",
      " [ 1.15782128 -3.38051501 -0.29100619]]\n"
     ]
    }
   ],
   "source": [
    "# Numpy program to compute trigonometric tan\n",
    "tan = np.tan(a1)\n",
    "print(tan)"
   ]
  }
 ],
 "metadata": {
  "kernelspec": {
   "display_name": "Python 3",
   "language": "python",
   "name": "python3"
  },
  "language_info": {
   "codemirror_mode": {
    "name": "ipython",
    "version": 3
   },
   "file_extension": ".py",
   "mimetype": "text/x-python",
   "name": "python",
   "nbconvert_exporter": "python",
   "pygments_lexer": "ipython3",
   "version": "3.7.6"
  }
 },
 "nbformat": 4,
 "nbformat_minor": 4
}
