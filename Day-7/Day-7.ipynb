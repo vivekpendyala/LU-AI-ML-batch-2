{
 "cells": [
  {
   "cell_type": "markdown",
   "metadata": {},
   "source": [
    "Question 1:\n",
    "--\n",
    "Write a program to copy the contents of one file to another using a for loop. (Don’t use built-in copy\n",
    "function)"
   ]
  },
  {
   "cell_type": "code",
   "execution_count": 1,
   "metadata": {},
   "outputs": [],
   "source": [
    "f = open('abc.txt','w')         # Creating a file which as some message in it\n",
    "f.write('Hey this is Vivek.\\nI am working on my assignment of Day-7.')\n",
    "f.close()"
   ]
  },
  {
   "cell_type": "code",
   "execution_count": 2,
   "metadata": {},
   "outputs": [],
   "source": [
    "f1 = open('a1.txt','a')      # Creating a new file to copy the content of abc.txt file\n",
    "f = open('abc.txt','r')  \n",
    "for line in f:\n",
    "    f1.write(line)           # Creating a for loop to copy single line of abc.txt file to a1.txt file\n",
    "f.close()\n",
    "f1.close()"
   ]
  },
  {
   "cell_type": "code",
   "execution_count": 3,
   "metadata": {},
   "outputs": [
    {
     "name": "stdout",
     "output_type": "stream",
     "text": [
      "Hey this is Vivek.\n",
      "I am working on my assignment of Day-7.\n"
     ]
    }
   ],
   "source": [
    "f1 = open('a1.txt','r')\n",
    "v = f1.read()             #  Displaying the content present in a1.txt\n",
    "print(v)\n",
    "f1.close()"
   ]
  },
  {
   "cell_type": "markdown",
   "metadata": {},
   "source": [
    "Question 2:\n",
    "--\n",
    "Write a Python program to find maximum and minimum values in the dictionary. Do not use built-in min\n",
    "and max functions."
   ]
  },
  {
   "cell_type": "code",
   "execution_count": 4,
   "metadata": {},
   "outputs": [
    {
     "name": "stdout",
     "output_type": "stream",
     "text": [
      "Minimum value  1\n",
      "Maximum value  4\n"
     ]
    }
   ],
   "source": [
    "d = {'a':1,'b':2,'c':3,'d':4}\n",
    "t = -99\n",
    "a = 999e8\n",
    "for j in d.values():\n",
    "    if t<j:\n",
    "        maximum = j\n",
    "    if a>j:\n",
    "        minimum = j\n",
    "        a = j\n",
    "print('Minimum value ',minimum)\n",
    "print('Maximum value ',maximum)"
   ]
  }
 ],
 "metadata": {
  "kernelspec": {
   "display_name": "Python 3",
   "language": "python",
   "name": "python3"
  },
  "language_info": {
   "codemirror_mode": {
    "name": "ipython",
    "version": 3
   },
   "file_extension": ".py",
   "mimetype": "text/x-python",
   "name": "python",
   "nbconvert_exporter": "python",
   "pygments_lexer": "ipython3",
   "version": "3.7.6"
  }
 },
 "nbformat": 4,
 "nbformat_minor": 4
}
