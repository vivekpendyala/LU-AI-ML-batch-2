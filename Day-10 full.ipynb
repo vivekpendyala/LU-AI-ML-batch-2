{
 "cells": [
  {
   "cell_type": "markdown",
   "metadata": {},
   "source": [
    "Question 1:\n",
    "--\n",
    "Create an element-wise comparison (greater, greater_equal, less and less_equal) of two given arrays"
   ]
  },
  {
   "cell_type": "code",
   "execution_count": 1,
   "metadata": {},
   "outputs": [
    {
     "name": "stdout",
     "output_type": "stream",
     "text": [
      "[[False False False]\n",
      " [False False  True]]\n"
     ]
    }
   ],
   "source": [
    "# Numpy program for element wise comparison (Greater than)\n",
    "import numpy as np\n",
    "a1 = np.array([[1, 2, 3],[4, 5, 6]])\n",
    "a2 = np.array([[9, 8, 7],[6, 5, 4]])\n",
    "filter = a1 > a2\n",
    "print(filter)"
   ]
  },
  {
   "cell_type": "code",
   "execution_count": 2,
   "metadata": {},
   "outputs": [
    {
     "name": "stdout",
     "output_type": "stream",
     "text": [
      "[[False False False]\n",
      " [False  True  True]]\n"
     ]
    }
   ],
   "source": [
    "# Numpy program for element wise comparison (Greater than or equal to)\n",
    "a1 = np.array([[1, 2, 3],[4, 5, 6]])\n",
    "a2 = np.array([[9, 8, 7],[6, 5, 4]])\n",
    "filter = a1 >= a2\n",
    "print(filter)"
   ]
  },
  {
   "cell_type": "code",
   "execution_count": 3,
   "metadata": {},
   "outputs": [
    {
     "name": "stdout",
     "output_type": "stream",
     "text": [
      "[[ True  True  True]\n",
      " [ True False False]]\n"
     ]
    }
   ],
   "source": [
    "# Numpy program for element wise comparison (less than)\n",
    "a1 = np.array([[1, 2, 3],[4, 5, 6]])\n",
    "a2 = np.array([[9, 8, 7],[6, 5, 4]])\n",
    "filter = a1 < a2\n",
    "print(filter)"
   ]
  },
  {
   "cell_type": "code",
   "execution_count": 4,
   "metadata": {},
   "outputs": [
    {
     "name": "stdout",
     "output_type": "stream",
     "text": [
      "[[ True  True  True]\n",
      " [ True  True False]]\n"
     ]
    }
   ],
   "source": [
    "# Numpy program for element wise comparison (less than or equal to)\n",
    "a1 = np.array([[1, 2, 3],[4, 5, 6]])\n",
    "a2 = np.array([[9, 8, 7],[6, 5, 4]])\n",
    "filter = a1 <= a2\n",
    "print(filter)"
   ]
  },
  {
   "cell_type": "markdown",
   "metadata": {},
   "source": [
    "Question 2:\n",
    "--\n",
    "Write a NumPy program to create an array of 10 zeros,10 ones, 10 fives"
   ]
  },
  {
   "cell_type": "code",
   "execution_count": 5,
   "metadata": {},
   "outputs": [
    {
     "name": "stdout",
     "output_type": "stream",
     "text": [
      "[[0 0 0 0 0 0 0 0 0 0]]\n"
     ]
    }
   ],
   "source": [
    "# Numpy program to create an array of 10 zeros\n",
    "z = np.zeros([1,10], dtype = np.int64)\n",
    "print(z)"
   ]
  },
  {
   "cell_type": "code",
   "execution_count": 6,
   "metadata": {},
   "outputs": [
    {
     "name": "stdout",
     "output_type": "stream",
     "text": [
      "[[1 1 1 1 1 1 1 1 1 1]]\n"
     ]
    }
   ],
   "source": [
    "# Numpy program to create an array of 10 ones\n",
    "o = np.ones([1,10], dtype = np.int64)\n",
    "print(o)"
   ]
  },
  {
   "cell_type": "code",
   "execution_count": 7,
   "metadata": {},
   "outputs": [
    {
     "name": "stdout",
     "output_type": "stream",
     "text": [
      "[[5 5 5 5 5 5 5 5 5 5]]\n"
     ]
    }
   ],
   "source": [
    "# Numpy program to create an array of 10 fives\n",
    "f = np.full([1,10],5)\n",
    "print(f)"
   ]
  },
  {
   "cell_type": "markdown",
   "metadata": {},
   "source": [
    "Question 3:\n",
    "--\n",
    "Write a NumPy program to compute sum of all elements, sum of each column and sum of each row of a\n",
    "given array"
   ]
  },
  {
   "cell_type": "code",
   "execution_count": 8,
   "metadata": {},
   "outputs": [
    {
     "name": "stdout",
     "output_type": "stream",
     "text": [
      "21\n"
     ]
    }
   ],
   "source": [
    "# Numpy program to sum all the elemnts in an array\n",
    "arr = np.array([[1, 2, 3],[4, 5, 6]])\n",
    "sum_all_elements = np.sum(arr)\n",
    "print(sum_all_elements)"
   ]
  },
  {
   "cell_type": "code",
   "execution_count": 9,
   "metadata": {},
   "outputs": [
    {
     "name": "stdout",
     "output_type": "stream",
     "text": [
      "[5 7 9]\n"
     ]
    }
   ],
   "source": [
    "# Numpy program to sum of each column elemnts in an array\n",
    "arr = np.array([[1, 2, 3],[4, 5, 6]])\n",
    "sum_column_elements = np.sum(arr, axis = 0)   # 1 + 4 = 5 ; 2 + 5 = 7 ; 3 + 6 = 9\n",
    "print(sum_column_elements)"
   ]
  },
  {
   "cell_type": "code",
   "execution_count": 10,
   "metadata": {},
   "outputs": [
    {
     "name": "stdout",
     "output_type": "stream",
     "text": [
      "[ 6 15]\n"
     ]
    }
   ],
   "source": [
    "# Numpy program to sum of each row elemnts in an array\n",
    "arr = np.array([[1, 2, 3],[4, 5, 6]])\n",
    "sum_row_elements = np.sum(arr, axis = 1)       # 1 + 2 + 3 = 6 ;  4 + 5 + 6 =15\n",
    "print(sum_row_elements)"
   ]
  },
  {
   "cell_type": "markdown",
   "metadata": {},
   "source": [
    "Question 4:\n",
    "--\n",
    "Write a NumPy program to add, subtract, multiply, divide arguments element-wise."
   ]
  },
  {
   "cell_type": "code",
   "execution_count": 11,
   "metadata": {},
   "outputs": [
    {
     "name": "stdout",
     "output_type": "stream",
     "text": [
      "The given arrays are\n",
      " [[1 2 3]\n",
      " [4 5 6]] \n",
      " and\n",
      " [[9 8 7]\n",
      " [6 5 4]]\n"
     ]
    }
   ],
   "source": [
    "# Creating Numpy arrays\n",
    "a1 = np.array([[1, 2, 3],[4, 5, 6]])\n",
    "a2 = np.array([[9, 8, 7],[6, 5, 4]])\n",
    "print('The given arrays are\\n {} \\n and\\n {}'.format(a1,a2))"
   ]
  },
  {
   "cell_type": "code",
   "execution_count": 17,
   "metadata": {},
   "outputs": [
    {
     "name": "stdout",
     "output_type": "stream",
     "text": [
      "[[10 10 10]\n",
      " [10 10 10]]\n"
     ]
    }
   ],
   "source": [
    "# numpy programe to add to arrays element wise\n",
    "ad = np.add(a1,a2)          # ad = a1 + a2\n",
    "print(ad)"
   ]
  },
  {
   "cell_type": "code",
   "execution_count": 12,
   "metadata": {},
   "outputs": [
    {
     "name": "stdout",
     "output_type": "stream",
     "text": [
      "[[-8 -6 -4]\n",
      " [-2  0  2]]\n"
     ]
    }
   ],
   "source": [
    "# numpy programe to subtract to arrays element wise\n",
    "sub = np.subtract(a1,a2)    #  sub = a1 - a2\n",
    "print(sub)"
   ]
  },
  {
   "cell_type": "code",
   "execution_count": 13,
   "metadata": {},
   "outputs": [
    {
     "name": "stdout",
     "output_type": "stream",
     "text": [
      "[[0.11111111 0.25       0.42857143]\n",
      " [0.66666667 1.         1.5       ]]\n"
     ]
    }
   ],
   "source": [
    "# numpy programe to divide to arrays element wise\n",
    "div = np.divide(a1,a2)      # div = a1 / a2\n",
    "print(div)"
   ]
  },
  {
   "cell_type": "code",
   "execution_count": 14,
   "metadata": {},
   "outputs": [
    {
     "name": "stdout",
     "output_type": "stream",
     "text": [
      "[[ 9 16 21]\n",
      " [24 25 24]]\n"
     ]
    }
   ],
   "source": [
    "# numpy programe to multiply to arrays element wise\n",
    "mul = np.multiply(a1, a2)      # mul = a1 * a2\n",
    "print(mul)"
   ]
  },
  {
   "cell_type": "markdown",
   "metadata": {},
   "source": [
    "Question 5:\n",
    "--\n",
    "Write a NumPy program to compute the trigonometric sine, cosine and tangent array of angles given in\n",
    "degree."
   ]
  },
  {
   "cell_type": "code",
   "execution_count": 15,
   "metadata": {},
   "outputs": [
    {
     "name": "stdout",
     "output_type": "stream",
     "text": [
      "[[ 0.84147098  0.90929743  0.14112001]\n",
      " [-0.7568025  -0.95892427 -0.2794155 ]]\n"
     ]
    }
   ],
   "source": [
    "# Numpy program to compute trigonometric sine\n",
    "a1 = np.array([[1, 2, 3],[4, 5, 6]])\n",
    "sin = np.sin(a1)\n",
    "print(sin)"
   ]
  },
  {
   "cell_type": "code",
   "execution_count": 16,
   "metadata": {},
   "outputs": [
    {
     "name": "stdout",
     "output_type": "stream",
     "text": [
      "[[ 0.54030231 -0.41614684 -0.9899925 ]\n",
      " [-0.65364362  0.28366219  0.96017029]]\n"
     ]
    }
   ],
   "source": [
    "# Numpy program to compute trigonometric cosine\n",
    "cos = np.cos(a1)\n",
    "print(cos)"
   ]
  },
  {
   "cell_type": "code",
   "execution_count": 17,
   "metadata": {},
   "outputs": [
    {
     "name": "stdout",
     "output_type": "stream",
     "text": [
      "[[ 1.55740772 -2.18503986 -0.14254654]\n",
      " [ 1.15782128 -3.38051501 -0.29100619]]\n"
     ]
    }
   ],
   "source": [
    "# Numpy program to compute trigonometric tan\n",
    "tan = np.tan(a1)\n",
    "print(tan)"
   ]
  },
  {
   "cell_type": "markdown",
   "metadata": {},
   "source": [
    "Question 6:\n",
    "--\n",
    "Write a Pandas program to create and display a DataFrame from a specified dictionary data which has the\n",
    "index labels"
   ]
  },
  {
   "cell_type": "code",
   "execution_count": 8,
   "metadata": {},
   "outputs": [
    {
     "name": "stdout",
     "output_type": "stream",
     "text": [
      "   1  2  3  4  5  6\n",
      "1  a  b  c  d  e  f\n"
     ]
    }
   ],
   "source": [
    "import pandas as pd\n",
    "d = {1:'a', 2:'b', 3:'c', 4:'d', 5:'e', 6:'f'}\n",
    "df = pd.DataFrame(d,index=[1])\n",
    "print(df)"
   ]
  },
  {
   "cell_type": "markdown",
   "metadata": {},
   "source": [
    "Question 7:\n",
    "--\n",
    "Write a Pandas program to select the 'name' and 'score' columns from the following DataFrame."
   ]
  },
  {
   "cell_type": "code",
   "execution_count": 15,
   "metadata": {},
   "outputs": [
    {
     "name": "stdout",
     "output_type": "stream",
     "text": [
      "                                      Values inside DataFrame                                       \n",
      "  Roll Number   Name  score\n",
      "0         4G4  Vivek     20\n",
      "1         4G8    sai     22\n",
      "2         4G2  vijay     25\n",
      "3         4G3  surya     19\n",
      "                               Selecting name and score columns only                                \n",
      "    Name  score\n",
      "0  Vivek     20\n",
      "1    sai     22\n",
      "2  vijay     25\n",
      "3  surya     19\n"
     ]
    }
   ],
   "source": [
    "NS = pd.DataFrame(data={'Roll Number':['4G4','4G8','4G2','4G3'],'Name':['Vivek','sai','vijay', 'surya'] , 'score':[20,22,25,19]})\n",
    "print('Values inside DataFrame'.center(100))\n",
    "print(NS)\n",
    "print('Selecting name and score columns only'.center(100))\n",
    "a = NS[['Name','score']]\n",
    "print(a)\n"
   ]
  },
  {
   "cell_type": "markdown",
   "metadata": {},
   "source": [
    "Question 8:\n",
    "--\n",
    "Write a Pandas program to join the two given dataframes along rows and assign all data."
   ]
  },
  {
   "cell_type": "code",
   "execution_count": 22,
   "metadata": {},
   "outputs": [
    {
     "name": "stdout",
     "output_type": "stream",
     "text": [
      "                                       Befor joining the data                                       \n",
      "  Name  Id  Score\n",
      "0  abc   1     25\n",
      "1  sai   2     18\n",
      "2  viv   3     24\n",
      "    Name  Id  Score\n",
      "0     ak   4     20\n",
      "1     rg   5     17\n",
      "2  binod   6     14\n",
      "                                       After joining the data                                       \n",
      "    Name  Id  Score\n",
      "0    abc   1     25\n",
      "1    sai   2     18\n",
      "2    viv   3     24\n",
      "0     ak   4     20\n",
      "1     rg   5     17\n",
      "2  binod   6     14\n"
     ]
    }
   ],
   "source": [
    "s1 = pd.DataFrame(data = {'Name':['abc', 'sai', 'viv'], 'Id':[1, 2, 3] , 'Score':[25, 18, 24]})\n",
    "s2 = pd.DataFrame(data = {'Name':['ak', 'rg', 'binod'], 'Id':[4, 5, 6] , 'Score':[20, 17, 14]})\n",
    "print('Befor joining the data'.center(100))\n",
    "print(s1)\n",
    "print(s2)\n",
    "print('After joining the data'.center(100))\n",
    "print(pd.concat([s1,s2]))"
   ]
  },
  {
   "cell_type": "markdown",
   "metadata": {},
   "source": [
    "Question 9:\n",
    "--\n",
    "Write a Pandas program to detect missing values of a given DataFrame. Display True or False."
   ]
  },
  {
   "cell_type": "code",
   "execution_count": 32,
   "metadata": {},
   "outputs": [
    {
     "name": "stdout",
     "output_type": "stream",
     "text": [
      "                                      Printing CSV file values                                      \n",
      "    Student Id  Marks\n",
      "0            1   23.0\n",
      "1            2   33.0\n",
      "2            3    5.0\n",
      "3            4   67.0\n",
      "4            5   67.0\n",
      "5            6   34.0\n",
      "6            7   12.0\n",
      "7            8   56.0\n",
      "8            9    7.0\n",
      "9           11   89.0\n",
      "10          12  556.0\n",
      "11          13   67.0\n",
      "12          34   54.0\n",
      "13          56   67.0\n",
      "14          67   43.0\n",
      "15          89   67.0\n",
      "16          98    NaN\n",
      "17          87  587.0\n",
      "18          76   23.0\n",
      "19          54   98.0\n",
      "                             detect missing values of a given DataFrame                             \n",
      "    Student Id  Marks\n",
      "0        False  False\n",
      "1        False  False\n",
      "2        False  False\n",
      "3        False  False\n",
      "4        False  False\n",
      "5        False  False\n",
      "6        False  False\n",
      "7        False  False\n",
      "8        False  False\n",
      "9        False  False\n",
      "10       False  False\n",
      "11       False  False\n",
      "12       False  False\n",
      "13       False  False\n",
      "14       False  False\n",
      "15       False  False\n",
      "16       False   True\n",
      "17       False  False\n",
      "18       False  False\n",
      "19       False  False\n"
     ]
    }
   ],
   "source": [
    "import os\n",
    "os.chdir('C:\\\\Users\\VIVEK\\Desktop\\AI-ML\\CSV files')\n",
    "cs = pd.read_csv('Marks.csv')\n",
    "cs2 = pd.DataFrame(cs)\n",
    "print('Printing CSV file values'.center(100))\n",
    "print(cs2)\n",
    "print('detect missing values of a given DataFrame'.center(100))\n",
    "print(cs2.isnull())\n"
   ]
  },
  {
   "cell_type": "markdown",
   "metadata": {},
   "source": [
    "Question 10:\n",
    "--\n",
    "Write a Pandas program to create and display a one-dimensional array-like object containing an array of\n",
    "data."
   ]
  },
  {
   "cell_type": "code",
   "execution_count": 34,
   "metadata": {},
   "outputs": [
    {
     "name": "stdout",
     "output_type": "stream",
     "text": [
      "a    1\n",
      "b    2\n",
      "c    3\n",
      "d    4\n",
      "e    5\n",
      "dtype: int64\n"
     ]
    }
   ],
   "source": [
    "arr = pd.Series(data= [1, 2, 3, 4, 5], index= ['a', 'b', 'c', 'd', 'e'])\n",
    "print(arr)"
   ]
  }
 ],
 "metadata": {
  "kernelspec": {
   "display_name": "Python 3",
   "language": "python",
   "name": "python3"
  },
  "language_info": {
   "codemirror_mode": {
    "name": "ipython",
    "version": 3
   },
   "file_extension": ".py",
   "mimetype": "text/x-python",
   "name": "python",
   "nbconvert_exporter": "python",
   "pygments_lexer": "ipython3",
   "version": "3.7.6"
  }
 },
 "nbformat": 4,
 "nbformat_minor": 4
}
