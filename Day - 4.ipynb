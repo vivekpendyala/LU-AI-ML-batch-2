{
 "cells": [
  {
   "cell_type": "markdown",
   "metadata": {},
   "source": [
    "# DAY- 4"
   ]
  },
  {
   "cell_type": "markdown",
   "metadata": {},
   "source": [
    "Question 1 :\n",
    "--\n",
    "Research on whether addition, subtraction, multiplication, division, floor division, and modulo operations\n",
    "be performed on complex numbers. Based on your study, implement a Python program to demonstrate\n",
    "these operations."
   ]
  },
  {
   "cell_type": "code",
   "execution_count": 1,
   "metadata": {},
   "outputs": [
    {
     "name": "stdout",
     "output_type": "stream",
     "text": [
      "(7+9j)\n",
      "(-3-3j)\n",
      "(-8+27j)\n",
      "(0.4590163934426229+0.04918032786885245j)\n",
      "0j\n",
      "(2+2.9999999999999996j)\n"
     ]
    }
   ],
   "source": [
    "a = 2 + 3j\n",
    "b = 5 + 6j\n",
    "print(a+b)\n",
    "print(a-b)\n",
    "print(a*b)\n",
    "c = a/b\n",
    "print(c)\n",
    "\n",
    "            # When we try to do floor division and modulo operations on complex numbers we will get an error message\n",
    "            # We can implement this in the following way\n",
    "                # Floor division on complex numbers\n",
    "fdr = int(c.real)\n",
    "fdi = int(c.imag)\n",
    "floor_of_complex = complex(fdr,fdi)\n",
    "print(floor_of_complex)\n",
    "               #  Modulo operation on complex numbers\n",
    "modulo_operator = c - floor_of_complex\n",
    "\n",
    "ans = modulo_operator * b\n",
    "print(ans)"
   ]
  },
  {
   "cell_type": "markdown",
   "metadata": {},
   "source": [
    "Question 2 :\n",
    "--\n",
    "Research on range() functions and its parameters. Create a markdown cell and write in your own words\n",
    "(no copy-paste from google please) what you understand about it. Implement a small program of your\n",
    "choice on the same."
   ]
  },
  {
   "cell_type": "markdown",
   "metadata": {},
   "source": [
    "range()\n",
    "--\n",
    "We can use range() function in with three parameters \n",
    "i.e range(start,stop,size)\n",
    "->range function returns a sequence of numbers.\n",
    "->atleast one parameter is mandatory in range function.\n",
    "\n",
    "range() with one parameter\n",
    "--\n",
    "If we give one parameters to the range function then it will consider it as range(stop)\n",
    "->from this we will get a sequence of numbers starting from 0 to stop-1 where the difference between successive numbers is 1.\n",
    "\n",
    "range() with two parameter\n",
    "--\n",
    "If we give two parameters to the range function then it will consider it as range(start,stop)\n",
    "->from this we will get a sequence of numbers starting from start to stop-1 where the difference between successive numbers is 1.\n",
    "\n",
    "range() with three parameter\n",
    "--\n",
    "If we give three parameters to the range function then it will consider it as range(start,stop,size)\n",
    "->from this we will get a sequence of numbers starting from start to stop-1 where the difference between successive numbers is equal size.\n",
    "\n",
    "Note\n",
    "--\n",
    "->Parameters inside range should be whole numbers.\n",
    "-> Size can't be equal to zero."
   ]
  },
  {
   "cell_type": "markdown",
   "metadata": {},
   "source": [
    "Question 3:\n",
    "--\n",
    "Consider two numbers. Perform their subtraction and if the result of subtraction is greater than 25, print\n",
    "their multiplication result else print their division result."
   ]
  },
  {
   "cell_type": "code",
   "execution_count": 2,
   "metadata": {},
   "outputs": [
    {
     "name": "stdout",
     "output_type": "stream",
     "text": [
      "15000\n"
     ]
    }
   ],
   "source": [
    "a = 300                              # a = int(input())\n",
    "b = 50                              #  b = int(input())\n",
    "if a-b > 25:\n",
    "    print(a*b)\n",
    "else:\n",
    "    print(a/b)"
   ]
  },
  {
   "cell_type": "markdown",
   "metadata": {},
   "source": [
    "Question 4:\n",
    "--\n",
    "Consider a list of 10 elements of integer values. If the number in the list is divisible by 2, print the result as\n",
    "\"square of that number minus 2\"."
   ]
  },
  {
   "cell_type": "code",
   "execution_count": 3,
   "metadata": {},
   "outputs": [
    {
     "name": "stdout",
     "output_type": "stream",
     "text": [
      "2\n",
      "14\n"
     ]
    }
   ],
   "source": [
    "l = [1, 2, 3, 4, 5]                      # l = list(map(int,input().split()))         ---> For getting users data\n",
    "for i in l:\n",
    "    if i % 2 == 0:\n",
    "        print(i*i - 2)"
   ]
  },
  {
   "cell_type": "markdown",
   "metadata": {},
   "source": [
    "Question 5:\n",
    "--\n",
    "Consider a list of 10 elements. Print all the elements in the list which are greater than 7 when that number\n",
    "is divided 2."
   ]
  },
  {
   "cell_type": "code",
   "execution_count": 4,
   "metadata": {},
   "outputs": [
    {
     "name": "stdout",
     "output_type": "stream",
     "text": [
      "45\n",
      "69\n",
      "71\n",
      "91\n",
      "24\n",
      "89\n",
      "21\n",
      "30\n",
      "49\n",
      "[45, 69, 71, 91, 24, 89, 12, 21, 30, 49]\n"
     ]
    }
   ],
   "source": [
    "import random\n",
    "l = [random.randint(1,100) for i in range(10)]    #  Used to generate random numbers\n",
    "for j in l:\n",
    "    if j/2 > 7:\n",
    "        print(j)\n",
    "print(l)              "
   ]
  }
 ],
 "metadata": {
  "kernelspec": {
   "display_name": "Python 3",
   "language": "python",
   "name": "python3"
  },
  "language_info": {
   "codemirror_mode": {
    "name": "ipython",
    "version": 3
   },
   "file_extension": ".py",
   "mimetype": "text/x-python",
   "name": "python",
   "nbconvert_exporter": "python",
   "pygments_lexer": "ipython3",
   "version": "3.7.6"
  }
 },
 "nbformat": 4,
 "nbformat_minor": 4
}
