{
 "cells": [
  {
   "cell_type": "markdown",
   "metadata": {},
   "source": [
    "Question 1 :\n",
    "--\n",
    "Assuming that we have some email addresses in the \"username@companyname.com\" format, please\n",
    "write a program to print the company name of a given email address. Both user names and company\n",
    "names are composed of letters only.\n",
    "Input Format:\n",
    "The first line of the input contains an email address.\n",
    "Output Format:\n",
    "Print the company name in a single line.\n",
    "Example;\n",
    "Input:\n",
    "john@google.com\n",
    "Output:\n",
    "google."
   ]
  },
  {
   "cell_type": "code",
   "execution_count": 1,
   "metadata": {},
   "outputs": [
    {
     "name": "stdout",
     "output_type": "stream",
     "text": [
      "john@google.com\n",
      "google\n"
     ]
    }
   ],
   "source": [
    "s = input()\n",
    "a = s.find('@')\n",
    "d = s.find('.')\n",
    "if a != -1 and d != -1:\n",
    "    print(s[a+1:d])\n",
    "else:\n",
    "    print(\"Invalid Email address\")"
   ]
  },
  {
   "cell_type": "markdown",
   "metadata": {},
   "source": [
    "Question 2 :\n",
    "--\n",
    "Write a program that accepts a comma-separated sequence of words as input and prints the words in a\n",
    "comma-separated sequence after sorting them alphabetically.\n",
    "Input Format:\n",
    "The first line of input contains words separated by the comma.\n",
    "Output Format:\n",
    "Print the sorted words separated by the comma.\n",
    "Example:\n",
    "Input:\n",
    "without,hello,bag,world\n",
    "\n",
    "Output:\n",
    "bag,hello,without,world"
   ]
  },
  {
   "cell_type": "code",
   "execution_count": 2,
   "metadata": {},
   "outputs": [
    {
     "name": "stdout",
     "output_type": "stream",
     "text": [
      "without,hello,bag,world\n",
      "bag,hello,without,world,"
     ]
    }
   ],
   "source": [
    "ip = list(input().split(','))\n",
    "ip = sorted(ip)\n",
    "for i in range(0,len(ip)):\n",
    "    print(ip[i],end=',')"
   ]
  },
  {
   "cell_type": "markdown",
   "metadata": {},
   "source": [
    "Question 3:\n",
    "--\n",
    "Create your own Jupyter Notebook for Sets. Reference link:"
   ]
  },
  {
   "cell_type": "markdown",
   "metadata": {},
   "source": [
    "Sets\n",
    "--\n",
    "In python sets are created using '{}' eg:- s = {1,2,3}\n",
    "\n",
    "Sets is a collection which is Unordered( i.e the values stored inside the sets is not the same as the order we  passed.) and Unindexed. \n",
    "\n",
    "sets does not allow duplicate values to store inside it.\n",
    "\n",
    "Sets are immutable.\n",
    "\n",
    "All the operations which we know on sets form our school time can be performed on sets in python. Such as Union, intersection ...\n"
   ]
  },
  {
   "cell_type": "code",
   "execution_count": 3,
   "metadata": {},
   "outputs": [
    {
     "name": "stdout",
     "output_type": "stream",
     "text": [
      "True\n",
      "True\n"
     ]
    }
   ],
   "source": [
    "'''We can check weather a variable is present inside a set or not'''\n",
    "s = {1,2,3,4}         # Creating a variable of type sets\n",
    "print(3 in s)       # Checking weather a value is present inside a variable or not\n",
    "print(4 in s)       # Checking weather a value is present inside a variable or not"
   ]
  },
  {
   "cell_type": "code",
   "execution_count": 4,
   "metadata": {},
   "outputs": [
    {
     "ename": "TypeError",
     "evalue": "'set' object does not support item assignment",
     "output_type": "error",
     "traceback": [
      "\u001b[1;31m---------------------------------------------------------------------------\u001b[0m",
      "\u001b[1;31mTypeError\u001b[0m                                 Traceback (most recent call last)",
      "\u001b[1;32m<ipython-input-4-67579a2ee5b1>\u001b[0m in \u001b[0;36m<module>\u001b[1;34m\u001b[0m\n\u001b[0;32m      2\u001b[0m \u001b[1;33m\u001b[0m\u001b[0m\n\u001b[0;32m      3\u001b[0m \u001b[0ms\u001b[0m \u001b[1;33m=\u001b[0m \u001b[1;33m{\u001b[0m\u001b[1;36m1\u001b[0m\u001b[1;33m,\u001b[0m\u001b[1;36m2\u001b[0m\u001b[1;33m,\u001b[0m\u001b[1;36m3\u001b[0m\u001b[1;33m,\u001b[0m\u001b[1;36m4\u001b[0m\u001b[1;33m}\u001b[0m\u001b[1;33m\u001b[0m\u001b[1;33m\u001b[0m\u001b[0m\n\u001b[1;32m----> 4\u001b[1;33m \u001b[0ms\u001b[0m\u001b[1;33m[\u001b[0m\u001b[1;36m0\u001b[0m\u001b[1;33m]\u001b[0m \u001b[1;33m=\u001b[0m \u001b[1;36m5\u001b[0m\u001b[1;33m\u001b[0m\u001b[1;33m\u001b[0m\u001b[0m\n\u001b[0m\u001b[0;32m      5\u001b[0m \u001b[0ms\u001b[0m\u001b[1;33m\u001b[0m\u001b[1;33m\u001b[0m\u001b[0m\n",
      "\u001b[1;31mTypeError\u001b[0m: 'set' object does not support item assignment"
     ]
    }
   ],
   "source": [
    "'''Checking Weather sets are immutable or not . '''\n",
    "\n",
    "s = {1,2,3,4}\n",
    "s[0] = 5\n",
    "s\n"
   ]
  },
  {
   "cell_type": "markdown",
   "metadata": {},
   "source": [
    "The adove code provides evidence that sets are immutable."
   ]
  },
  {
   "cell_type": "markdown",
   "metadata": {},
   "source": [
    "Adding values to sets\n",
    "--"
   ]
  },
  {
   "cell_type": "code",
   "execution_count": 5,
   "metadata": {},
   "outputs": [
    {
     "name": "stdout",
     "output_type": "stream",
     "text": [
      "Before adding  {1, 2, 3, 4}\n",
      "After adding  {1, 2, 3, 4, 5}\n",
      "Update values  {1, 2, 3, 4, 5, 6, 7, 8}\n"
     ]
    }
   ],
   "source": [
    "print('Before adding ',s)\n",
    "s.add(5)                                 # Adding value Using add method\n",
    "print('After adding ',s) \n",
    "s.update([6,7,8])                        # Adding multiple values using update method\n",
    "print('Update values ',s)"
   ]
  },
  {
   "cell_type": "markdown",
   "metadata": {},
   "source": [
    "Removing Value from the sets\n",
    "--"
   ]
  },
  {
   "cell_type": "code",
   "execution_count": 6,
   "metadata": {},
   "outputs": [
    {
     "name": "stdout",
     "output_type": "stream",
     "text": [
      "{2, 3, 4, 5, 6, 7, 8}\n",
      "{2, 3, 4, 5, 7, 8}\n",
      "{2, 3, 4, 7, 8}\n"
     ]
    }
   ],
   "source": [
    "s.pop()    # Used to remove the last value in sets it is not recommended as we don't know in which order the values are stored\n",
    "print(s)\n",
    "s.remove(6)  # Used to remove the specified value if the item is not in the sets then it will throw an error.\n",
    "print(s)\n",
    "s.discard(5)  # Used to remove the specified value if the item not in the sets it will not throw an error.\n",
    "print(s)"
   ]
  },
  {
   "cell_type": "markdown",
   "metadata": {},
   "source": [
    "Union on sets\n",
    "--"
   ]
  },
  {
   "cell_type": "code",
   "execution_count": 7,
   "metadata": {},
   "outputs": [
    {
     "name": "stdout",
     "output_type": "stream",
     "text": [
      "{2, 3, 4, 7, 8, 9, 10, 11}\n"
     ]
    }
   ],
   "source": [
    "s2 = {9,10,11}\n",
    "s3 = s.union(s2)           # It will create a sets which include all the elements of s and s2 without any duplicates.\n",
    "print(s3)"
   ]
  },
  {
   "cell_type": "markdown",
   "metadata": {},
   "source": [
    "Intersection on sets\n",
    "--"
   ]
  },
  {
   "cell_type": "code",
   "execution_count": 8,
   "metadata": {},
   "outputs": [
    {
     "name": "stdout",
     "output_type": "stream",
     "text": [
      "{2, 3, 4}\n"
     ]
    }
   ],
   "source": [
    "s4 = {2,3,4,18}\n",
    "s5 = s.intersection(s4)     # It will create a sets which include all the common elements of s and s4.\n",
    "print(s5)"
   ]
  },
  {
   "cell_type": "markdown",
   "metadata": {},
   "source": [
    "Copy in sets\n",
    "--"
   ]
  },
  {
   "cell_type": "code",
   "execution_count": 9,
   "metadata": {},
   "outputs": [
    {
     "name": "stdout",
     "output_type": "stream",
     "text": [
      "{2, 3, 4}\n"
     ]
    }
   ],
   "source": [
    "s6 = s5.copy()               # It will copy the values in s5 to s6\n",
    "print(s6)"
   ]
  },
  {
   "cell_type": "markdown",
   "metadata": {},
   "source": [
    "Clear in sets\n",
    "--"
   ]
  },
  {
   "cell_type": "code",
   "execution_count": 10,
   "metadata": {},
   "outputs": [
    {
     "name": "stdout",
     "output_type": "stream",
     "text": [
      "set()\n"
     ]
    }
   ],
   "source": [
    "s5.clear()                    # used to clear the sets\n",
    "print(s5)"
   ]
  },
  {
   "cell_type": "markdown",
   "metadata": {},
   "source": [
    "To check subset in sets\n",
    "--"
   ]
  },
  {
   "cell_type": "code",
   "execution_count": 11,
   "metadata": {},
   "outputs": [
    {
     "data": {
      "text/plain": [
       "True"
      ]
     },
     "execution_count": 11,
     "metadata": {},
     "output_type": "execute_result"
    }
   ],
   "source": [
    "s6.issubset(s)         # Here we check weather the values of s6 are present in s are not"
   ]
  },
  {
   "cell_type": "markdown",
   "metadata": {},
   "source": [
    "# Question 4:\n",
    "Given a list of n-1 numbers ranging from 1 to n, your task is to find the missing number. There are no\n",
    "duplicates.\n",
    "Input Format:\n",
    "The first line contains n-1 numbers with each number separated by a space.\n",
    "Output Format:\n",
    "Print the missing number.\n",
    "\n",
    "Example:\n",
    "\n",
    "Input:\n",
    "1 2 4 6 3 7 8\n",
    "\n",
    "Output:\n",
    "5\n",
    "\n",
    "Explanation:\n",
    "In the above list of numbers 5 is missing and hence 5 is the input"
   ]
  },
  {
   "cell_type": "code",
   "execution_count": 12,
   "metadata": {},
   "outputs": [
    {
     "name": "stdout",
     "output_type": "stream",
     "text": [
      "1 2 4 6 3 7 8\n",
      "5\n"
     ]
    }
   ],
   "source": [
    "ip = list(map(int,input().split()))\n",
    "ip.sort()\n",
    "v = 0\n",
    "for i in range(1,len(ip)+2):\n",
    "    if i not in ip:\n",
    "        print(i)\n",
    "        break"
   ]
  },
  {
   "cell_type": "markdown",
   "metadata": {},
   "source": [
    "Question 5:\n",
    "--\n",
    "With a given list L, write a program to print this list L after removing all duplicate values with original order\n",
    "reserved.\n",
    "\n",
    "Example:\n",
    "If the input list is\n",
    "12 24 35 24 88 120 155 88 120 155\n",
    "\n",
    "Then the output should be\n",
    "12 24 35 88 120 155\n",
    "\n",
    "Explanation:\n",
    "\n",
    "Third, the seventh and ninth element of the list L has been removed because it was already present.\n",
    "\n",
    "Input Format:\n",
    "\n",
    "In one line take the elements of the list L with each element separated by a space.\n",
    "\n",
    "Output Format:\n",
    "\n",
    "Print the elements of the modified list in one line with each element separated by a space.\n",
    "\n",
    "Example:\n",
    "\n",
    "Input:\n",
    "12 24 35 24\n",
    "\n",
    "Output:\n",
    "12 24 35"
   ]
  },
  {
   "cell_type": "code",
   "execution_count": 13,
   "metadata": {},
   "outputs": [
    {
     "name": "stdout",
     "output_type": "stream",
     "text": [
      "12 24 35 24 88 120 155 88 120 155\n",
      "12 24 35 88 120 155 "
     ]
    }
   ],
   "source": [
    "l = list(map(int,input().split()))\n",
    "l = list(set(l))\n",
    "l.sort()\n",
    "for i in l:\n",
    "    print(i,end=' ')"
   ]
  }
 ],
 "metadata": {
  "kernelspec": {
   "display_name": "Python 3",
   "language": "python",
   "name": "python3"
  },
  "language_info": {
   "codemirror_mode": {
    "name": "ipython",
    "version": 3
   },
   "file_extension": ".py",
   "mimetype": "text/x-python",
   "name": "python",
   "nbconvert_exporter": "python",
   "pygments_lexer": "ipython3",
   "version": "3.7.6"
  }
 },
 "nbformat": 4,
 "nbformat_minor": 4
}
