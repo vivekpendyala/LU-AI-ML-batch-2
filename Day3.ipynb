{
 "cells": [
  {
   "cell_type": "markdown",
   "metadata": {},
   "source": [
    "Question 1:\n",
    "--\n",
    "Write a program to subtract two complex numbers in Python."
   ]
  },
  {
   "cell_type": "code",
   "execution_count": 1,
   "metadata": {},
   "outputs": [
    {
     "name": "stdout",
     "output_type": "stream",
     "text": [
      "(1+1j)\n"
     ]
    }
   ],
   "source": [
    "a = 2 + 3j\n",
    "b = 1 + 2j\n",
    "c = a - b\n",
    "print(c)"
   ]
  },
  {
   "cell_type": "markdown",
   "metadata": {},
   "source": [
    "Question 2 :\n",
    "--\n",
    "Write a program to find the fourth root of a number."
   ]
  },
  {
   "cell_type": "code",
   "execution_count": 2,
   "metadata": {},
   "outputs": [
    {
     "name": "stdout",
     "output_type": "stream",
     "text": [
      "17 fourth root is 2.0305431848689306\n"
     ]
    }
   ],
   "source": [
    "a = 17\n",
    "b = a**(1/4)        \n",
    "print('{} fourth root is {}'.format(a, b))"
   ]
  },
  {
   "cell_type": "markdown",
   "metadata": {},
   "source": [
    "Question 3:\n",
    "--\n",
    "Write a program to swap two numbers in Python with the help of a temporary variable."
   ]
  },
  {
   "cell_type": "code",
   "execution_count": 3,
   "metadata": {},
   "outputs": [
    {
     "name": "stdout",
     "output_type": "stream",
     "text": [
      "Before Swapping a is 3 and b is 4\n",
      "After Swapping a is 4 and b is 3\n"
     ]
    }
   ],
   "source": [
    "a = 3\n",
    "b = 4\n",
    "print('Before Swapping a is {} and b is {}'.format(a, b))\n",
    "t = a\n",
    "a = b \n",
    "b = t\n",
    "print('After Swapping a is {} and b is {}'.format(a, b))"
   ]
  },
  {
   "cell_type": "markdown",
   "metadata": {},
   "source": [
    "Question 4:\n",
    "--\n",
    "Write a program to swap two numbers in Python without using a temporary variable."
   ]
  },
  {
   "cell_type": "code",
   "execution_count": 4,
   "metadata": {},
   "outputs": [
    {
     "name": "stdout",
     "output_type": "stream",
     "text": [
      "Before Swapping a is 3 and b is 4\n",
      "Before Swapping a is 4 and b is 3\n"
     ]
    }
   ],
   "source": [
    "a = 3\n",
    "b = 4\n",
    "print('Before Swapping a is {} and b is {}'.format(a, b))\n",
    "a, b = b, a\n",
    "print('Before Swapping a is {} and b is {}'.format(a, b))"
   ]
  },
  {
   "cell_type": "markdown",
   "metadata": {},
   "source": [
    "Question 5:\n",
    "--\n",
    "Write a program to convert Fahrenheit to kelvin and celsius both."
   ]
  },
  {
   "cell_type": "code",
   "execution_count": 5,
   "metadata": {},
   "outputs": [
    {
     "name": "stdout",
     "output_type": "stream",
     "text": [
      "celsius value of fahrenhit 75 is 23.88888888888889\n",
      "kelvin value of fahrenhit 75 is 297.03888888888895\n"
     ]
    }
   ],
   "source": [
    "f = 75  # assuming Fahrenhit temperature is 75 degrees\n",
    "\n",
    "k = (f + 459.67) * (5/9)          # formula to convert fahrenheit to kelvin \n",
    "\n",
    "c = (f - 32) * (5/9)            # formula to convert fahrenhit to kelvin\n",
    "\n",
    "print('celsius value of fahrenhit {} is {}'.format(f,c))\n",
    "print('kelvin value of fahrenhit {} is {}'.format(f,k))"
   ]
  },
  {
   "cell_type": "markdown",
   "metadata": {},
   "source": [
    "Question 6:\n",
    "--\n",
    "Write a program to demonstrate all the available data types in Python. Hint: Use type() function."
   ]
  },
  {
   "cell_type": "code",
   "execution_count": 6,
   "metadata": {},
   "outputs": [
    {
     "name": "stdout",
     "output_type": "stream",
     "text": [
      "5 ----- is <class 'int'> type\n",
      "2.34 ----- is <class 'float'> type\n",
      "(2+3j) ----- is <class 'complex'> type\n",
      "Hi LetsUpgrade ----- is <class 'str'> type\n",
      "[1, 2, 3, 4] ----- is <class 'list'> type\n",
      "(1, 2, 3) ----- is <class 'tuple'> type\n",
      "{1, 3, 4, 22} ----- is <class 'set'> type\n",
      "{'1': 2, '3': 4} ----- is <class 'dict'> type\n"
     ]
    }
   ],
   "source": [
    "a = 5                       # int type\n",
    "b = 2.34                    # float type\n",
    "c = 2 + 3j                  # complex type\n",
    "d = 'Hi LetsUpgrade'        # string type\n",
    "e = [1, 2, 3, 4]            # list type\n",
    "f = (1, 2, 3)               # tuple type\n",
    "g = {1, 22, 3, 4}           # set type\n",
    "h = {'1':2, '3':4}          # dictionary type\n",
    "\n",
    "print('{} ----- is {} type'.format(a,type(a)))\n",
    "print('{} ----- is {} type'.format(b,type(b)))\n",
    "print('{} ----- is {} type'.format(c,type(c)))\n",
    "print('{} ----- is {} type'.format(d,type(d)))\n",
    "print('{} ----- is {} type'.format(e,type(e)))\n",
    "print('{} ----- is {} type'.format(f,type(f)))\n",
    "print('{} ----- is {} type'.format(g,type(g)))\n",
    "print('{} ----- is {} type'.format(h,type(h)))"
   ]
  }
 ],
 "metadata": {
  "kernelspec": {
   "display_name": "Python 3",
   "language": "python",
   "name": "python3"
  },
  "language_info": {
   "codemirror_mode": {
    "name": "ipython",
    "version": 3
   },
   "file_extension": ".py",
   "mimetype": "text/x-python",
   "name": "python",
   "nbconvert_exporter": "python",
   "pygments_lexer": "ipython3",
   "version": "3.7.6"
  }
 },
 "nbformat": 4,
 "nbformat_minor": 4
}
